{
 "cells": [
  {
   "cell_type": "markdown",
   "id": "28a18e5d",
   "metadata": {},
   "source": [
    "# Winter 2023 Scotia DSD - Modelling\n",
    "\n",
    "Please note that Exploratory Analysis is done on a different file included in the folder under name 'Jojos_Data_Adventure_code_Exploratory'. \n",
    "\n",
    "### Style Guide\n",
    "The following code attemps to follow google's python style guide. \n",
    "https://google.github.io/styleguide/pyguide.html"
   ]
  },
  {
   "cell_type": "code",
   "execution_count": 1,
   "id": "0aaeddb9",
   "metadata": {},
   "outputs": [],
   "source": [
    "# Import needed libraries and define constants.\n",
    "import pandas as pd\n",
    "import numpy as np\n",
    "import seaborn as sns\n",
    "import matplotlib.pyplot as plt\n",
    "from sklearn.model_selection import train_test_split\n",
    "from sklearn.preprocessing import OneHotEncoder\n",
    "from sklearn.compose import make_column_transformer\n",
    "from imblearn.under_sampling import NearMiss\n",
    "from sklearn.ensemble import RandomForestClassifier\n",
    "from sklearn.metrics import f1_score\n",
    "\n",
    "\n",
    "TEST_FILE_PATH = \"/Users//Desktop/Winter 2023 Discovery Days/test_ScotiaDSD.csv\"\n",
    "TRAIN_FILE_PATH = \"/Users//Desktop/Winter 2023 Discovery Days/train_ScotiaDSD.csv\"\n",
    "RESULT_EXPORT_FILE_PATH = \"/Users//Desktop/Winter 2023 Discovery Days/submission.csv\"\n",
    "\n",
    "# Import training data as dataframe.\n",
    "train_data = pd.read_csv('/Users//Desktop/Winter 2023 Discovery Days/train_ScotiaDSD.csv')"
   ]
  },
  {
   "cell_type": "markdown",
   "id": "a976ab91",
   "metadata": {},
   "source": [
    "### Part 1: Investigate missing data\n",
    "\n",
    "Only `USER_AGENT` and `CITY` columns contains missing/null data. Based on answers from Q&A sessions, those two columns are null when a transaction is not related to e-commerce. Thus, the null data is valid and don't need further processing."
   ]
  },
  {
   "cell_type": "code",
   "execution_count": 2,
   "id": "63ed5f96",
   "metadata": {},
   "outputs": [
    {
     "data": {
      "text/plain": [
       "Index(['USER_AGENT', 'CITY'], dtype='object')"
      ]
     },
     "execution_count": 2,
     "metadata": {},
     "output_type": "execute_result"
    }
   ],
   "source": [
    "# Check which columns contains missing data.\n",
    "train_data.columns[train_data.isnull().sum(axis=0) != 0]"
   ]
  },
  {
   "cell_type": "markdown",
   "id": "f23017ee",
   "metadata": {},
   "source": [
    "### Part 2: Preprocess data for the Random Forest Classifier\n",
    "\n",
    "Since the Random Forest Classifiers can only process features with `dtype` that can be converted to `int` or `float`. We need to process features such as `EVENT_TIME`, `USER_AGENT` and `CITY` which has `dtype` `object`.\n",
    "\n",
    "We convert `EVENT_TIME` to minutes since 00:00. We also classify `USER_AGENT` and `CITY` features and assign `int` values to each classification. If `USER_AGENT` and `CITY` is null, the `int` value will be `-1`.\n"
   ]
  },
  {
   "cell_type": "code",
   "execution_count": 3,
   "id": "263462b1",
   "metadata": {},
   "outputs": [],
   "source": [
    "# Converts EVENT_TIME columns to minutes since 00:00.\n",
    "def to_minutes(timeStr):\n",
    "    \"\"\"Convert time string to minutes since 00:00.\n",
    "\n",
    "    Args:\n",
    "        timeStr: A string which takes the form %HH:%MM.\n",
    "\n",
    "    Returns:\n",
    "        An interger value.\n",
    "    \"\"\"\n",
    "    timeList = timeStr.split(':')\n",
    "    return int(timeList[0]) * 60 + int(timeList[0])\n",
    "\n",
    "train_data['EVENT_TIME'] = train_data['EVENT_TIME'].apply(to_minutes)\n",
    "\n",
    "# Categorize USER_AGENT and CITY columns\n",
    "features_to_encode = list(train_data.select_dtypes(include = ['object']).columns) \n",
    "for i in features_to_encode:\n",
    "    train_data[i] = train_data[i].astype('category')\n",
    "    train_data[i] = train_data[i].cat.codes"
   ]
  },
  {
   "cell_type": "markdown",
   "id": "5fab7f05",
   "metadata": {},
   "source": [
    "### Part 3: Sample training dataset\n",
    "\n",
    "By observation, the training data is imbalanced since the number of fraud transactions only takes up about `2.5%` of the training population. To avoid resultant model skewing towards predicting non-fraud, we use **Under-sampling**. Specifically, **Near Miss Method** to cut down transactions in the non-fraud category. Our target ratio between fraud to non-fraud is `0.25`."
   ]
  },
  {
   "cell_type": "code",
   "execution_count": 4,
   "id": "101e1343",
   "metadata": {},
   "outputs": [
    {
     "name": "stderr",
     "output_type": "stream",
     "text": [
      "/Users//opt/anaconda3/lib/python3.9/site-packages/imblearn/under_sampling/_prototype_selection/_nearmiss.py:177: UserWarning: The number of the samples to be selected is larger than the number of samples available. The balancing ratio cannot be ensure and all samples will be returned.\n",
      "  warnings.warn(\n"
     ]
    },
    {
     "name": "stdout",
     "output_type": "stream",
     "text": [
      "testing set fraud ratio 0.2982862436313108\n",
      "training set fraud ratio 0.30635017244877255\n"
     ]
    },
    {
     "name": "stderr",
     "output_type": "stream",
     "text": [
      "/Users//opt/anaconda3/lib/python3.9/site-packages/imblearn/under_sampling/_prototype_selection/_nearmiss.py:177: UserWarning: The number of the samples to be selected is larger than the number of samples available. The balancing ratio cannot be ensure and all samples will be returned.\n",
      "  warnings.warn(\n"
     ]
    }
   ],
   "source": [
    "# Apply Near Miss Under-sampling method to get train and test data samples.\n",
    "X_population = train_data.drop(['TRANSACTION_ID', 'FRAUD_FLAG'], axis = 1)\n",
    "Y_population = train_data['FRAUD_FLAG']\n",
    "X_train, X_test, Y_train, Y_test = train_test_split(X_population, Y_population, test_size=0.3, random_state=42)\n",
    "\n",
    "nearmiss = NearMiss(version=3, sampling_strategy=0.25)\n",
    "X_train_nearmiss, Y_train_nearmiss= nearmiss.fit_resample(X_train, Y_train)\n",
    "X_test_nearmiss, Y_test_nearmiss= nearmiss.fit_resample(X_test, Y_test)\n",
    "\n",
    "# Check fraud to non-fraud ration in the samples.\n",
    "print('testing set fraud ratio {}'.format(sum(Y_test_nearmiss)/len(Y_test_nearmiss)))\n",
    "print('training set fraud ratio {}'.format(sum(Y_train_nearmiss)/len(Y_train_nearmiss)))"
   ]
  },
  {
   "cell_type": "markdown",
   "id": "299cc090",
   "metadata": {},
   "source": [
    "### Part 4: Use Random Forest Classifier\n",
    "\n",
    "We apply Random Forest Classifier to our sampled training data. Then, we measure the prediction using F1 score."
   ]
  },
  {
   "cell_type": "code",
   "execution_count": 5,
   "id": "53ed8a00",
   "metadata": {},
   "outputs": [
    {
     "name": "stdout",
     "output_type": "stream",
     "text": [
      "f1 score on training: 0.9132616487455197\n",
      "f1 score on testing: 0.6805807622504537\n"
     ]
    }
   ],
   "source": [
    "# Configure Random Forest Classifier.\n",
    "clf = RandomForestClassifier(bootstrap=True, ccp_alpha=0.0,criterion='gini', max_depth=13, \n",
    "                             max_features='auto', min_impurity_decrease=0, min_samples_leaf=1, \n",
    "                             min_samples_split=5, min_weight_fraction_leaf=0, n_estimators=800,\n",
    "                             n_jobs=None, oob_score=False)\n",
    "\n",
    "\n",
    "# Run classifier on training data and predict testing data.\n",
    "clf.fit(X_train_nearmiss, Y_train_nearmiss)\n",
    "Y_pred_train_nearmiss = clf.predict(X_train_nearmiss)\n",
    "Y_pred_test_nearmiss = clf.predict(X_test_nearmiss)\n",
    "\n",
    "# Check prediction's F1 score.\n",
    "print('f1 score on training: {}'.format(f1_score(Y_train_nearmiss,Y_pred_train_nearmiss)))\n",
    "print('f1 score on testing: {}'.format(f1_score(Y_test_nearmiss,Y_pred_test_nearmiss)))"
   ]
  },
  {
   "cell_type": "markdown",
   "id": "4ee40b3d",
   "metadata": {},
   "source": [
    "### Part 5: Test model on another sample\n",
    "\n",
    "Use the model on a randomly selected sample and check the f1 score."
   ]
  },
  {
   "cell_type": "code",
   "execution_count": 6,
   "id": "5fc88d50",
   "metadata": {},
   "outputs": [
    {
     "name": "stdout",
     "output_type": "stream",
     "text": [
      "f1 score on testing: 0.6441281138790035\n"
     ]
    }
   ],
   "source": [
    "# Randomly get a sample with 20000 transactions.\n",
    "sample2 = train_data.sample(n = 20000, random_state=60)\n",
    "X2 = sample2.drop(['TRANSACTION_ID', 'FRAUD_FLAG'], axis = 1)\n",
    "Y2 = sample2['FRAUD_FLAG']\n",
    "\n",
    "# Use model to predict.\n",
    "y_pred_test2 = clf.predict(X2)\n",
    "\n",
    "# Check prediction's F1 score.\n",
    "print('f1 score on testing: {}'.format(f1_score(Y2,y_pred_test2)))"
   ]
  },
  {
   "cell_type": "markdown",
   "id": "1a748651",
   "metadata": {},
   "source": [
    "### Part 6: Show significant features\n",
    "\n",
    "Use Matplot to plot the significant features in the Random Forest Classifier model."
   ]
  },
  {
   "cell_type": "code",
   "execution_count": 7,
   "id": "229277dd",
   "metadata": {},
   "outputs": [
    {
     "name": "stderr",
     "output_type": "stream",
     "text": [
      "No handles with labels found to put in legend.\n"
     ]
    },
    {
     "data": {
      "image/png": "[encoded data removed]",
      "text/plain": [
       "<Figure size 432x288 with 1 Axes>"
      ]
     },
     "metadata": {
      "needs_background": "light"
     },
     "output_type": "display_data"
    }
   ],
   "source": [
    "feature_imp = pd.Series(clf.feature_importances_,index=X_population.columns).sort_values(ascending=False).nlargest(10)\n",
    "%matplotlib inline\n",
    "\n",
    "# Creating a bar plot.\n",
    "sns.barplot(x=feature_imp, y=feature_imp.index)\n",
    "\n",
    "# Add labels to bar plot.\n",
    "plt.xlabel('Feature Importance Score')\n",
    "plt.ylabel('Features')\n",
    "plt.title(\"Visualizing Important Features\")\n",
    "plt.legend()\n",
    "plt.show()"
   ]
  },
  {
   "cell_type": "markdown",
   "id": "4bb097a2",
   "metadata": {},
   "source": [
    "### Part 7: Export prediction to csv file"
   ]
  },
  {
   "cell_type": "code",
   "execution_count": 11,
   "id": "c8716301",
   "metadata": {},
   "outputs": [],
   "source": [
    "# Import testing data as dataframe.\n",
    "test_data = pd.read_csv(TEST_FILE_PATH)\n",
    "\n",
    "# Preprocess EVENT_TIME column in testing data.\n",
    "test_data['EVENT_TIME'] = test_data['EVENT_TIME'].apply(to_minutes)\n",
    "\n",
    "# Categorize USER_AGENT and CITY columns in testing data.\n",
    "for i in features_to_encode:\n",
    "    test_data[i] = test_data[i].astype('category')\n",
    "    test_data[i] = test_data[i].cat.codes\n",
    "\n",
    "# Generate prediction and probability.\n",
    "X_result=test_data[X_population.columns]\n",
    "Y_result=clf.predict(X_result)\n",
    "Y_prob=clf.predict_proba(X_result)\n",
    "test_data[\"FRAUD_FLAG\"]=Y_result\n",
    "test_data[[\"PROB_NOT_FRAUD\", \"PROB_FRAUD\"]] = Y_prob\n",
    "\n",
    "# Write FRAUD_FLAG and PROBABILITY to testing dataframe.\n",
    "test_data[\"PROBABILITY\"] = test_data[\"PROB_FRAUD\"]\n",
    "\n",
    "# Export result to csv file.\n",
    "test_data.to_csv(RESULT_EXPORT_FILE_PATH, \n",
    "                 columns=[\"TRANSACTION_ID\", \"FRAUD_FLAG\", \"PROBABILITY\"], \n",
    "                 header=[\"TRANSACTION_ID\", \"PERDICTION\", \"PROBABILITY\"],\n",
    "                 index=False)"
   ]
  },
  {
   "cell_type": "code",
   "execution_count": null,
   "id": "85c314e4",
   "metadata": {},
   "outputs": [],
   "source": []
  }
 ],
 "metadata": {
  "kernelspec": {
   "display_name": "Python 3 (ipykernel)",
   "language": "python",
   "name": "python3"
  },
  "language_info": {
   "codemirror_mode": {
    "name": "ipython",
    "version": 3
   },
   "file_extension": ".py",
   "mimetype": "text/x-python",
   "name": "python",
   "nbconvert_exporter": "python",
   "pygments_lexer": "ipython3",
   "version": "3.9.7"
  }
 },
 "nbformat": 4,
 "nbformat_minor": 5
}
